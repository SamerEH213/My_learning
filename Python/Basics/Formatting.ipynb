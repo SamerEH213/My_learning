{
 "cells": [
  {
   "cell_type": "markdown",
   "metadata": {},
   "source": [
    "# - Formatting..."
   ]
  },
  {
   "cell_type": "markdown",
   "metadata": {},
   "source": [
    "**- There are several ways to format output .**"
   ]
  },
  {
   "cell_type": "markdown",
   "metadata": {},
   "source": [
    "- important note --> The final result of any formating process is string . "
   ]
  },
  {
   "cell_type": "markdown",
   "metadata": {},
   "source": [
    "# - First way ( old)..."
   ]
  },
  {
   "cell_type": "markdown",
   "metadata": {},
   "source": [
    "- %s --> string or numbers or character .\n",
    "\n",
    "- %d --> digit (int).\n",
    "\n",
    "- %f --> digit (float) #defualt 6 zeros after point.\n",
    "\n",
    "- %c --> character or assci . "
   ]
  },
  {
   "cell_type": "code",
   "execution_count": 24,
   "metadata": {},
   "outputs": [
    {
     "name": "stdout",
     "output_type": "stream",
     "text": [
      "The value of y is  100\n",
      "The value of y is 100\n",
      "The value of y is 100\n"
     ]
    }
   ],
   "source": [
    "y=100\n",
    "print(\"The value of y is \",y) #without formating \n",
    "\n",
    "#print(\"The value of y is %\"%y) #--> error\n",
    "\n",
    "print(\"The value of y is %d\" %y)#with formating"
   ]
  },
  {
   "cell_type": "markdown",
   "metadata": {},
   "source": [
    "**- What type should I use?**"
   ]
  },
  {
   "cell_type": "markdown",
   "metadata": {},
   "source": [
    "- if data type of variable :\n",
    "    - number --> you can use (%d , %f , %s , %c(assci))\n",
    "    - string --> you can use only (%s)\n",
    "    - character  --> you can use  (%s,%c)"
   ]
  },
  {
   "cell_type": "code",
   "execution_count": 27,
   "metadata": {},
   "outputs": [
    {
     "name": "stdout",
     "output_type": "stream",
     "text": [
      "The value of y is 10\n",
      "The value of y is 10\n",
      "The value of y is 10.000000\n"
     ]
    }
   ],
   "source": [
    "y=10\n",
    "a=5.4\n",
    "print(\"The value of y is %s\"%y) \n",
    "\n",
    "print(\"The value of y is %d\"%y) \n",
    "\n",
    "print(\"The value of y is %f\"%y) "
   ]
  },
  {
   "cell_type": "code",
   "execution_count": 28,
   "metadata": {},
   "outputs": [
    {
     "name": "stdout",
     "output_type": "stream",
     "text": [
      "The value of y is 10\n"
     ]
    }
   ],
   "source": [
    "y=10\n",
    "print(\"The value of y is %s\"%10) "
   ]
  },
  {
   "cell_type": "code",
   "execution_count": 29,
   "metadata": {},
   "outputs": [
    {
     "name": "stdout",
     "output_type": "stream",
     "text": [
      "The value of y is 15\n"
     ]
    }
   ],
   "source": [
    "print(\"The value of y is %d\"%(y+a)) \n",
    "\n"
   ]
  },
  {
   "cell_type": "code",
   "execution_count": 72,
   "metadata": {},
   "outputs": [
    {
     "name": "stdout",
     "output_type": "stream",
     "text": [
      "The value of y is 10 and a is 5\n"
     ]
    }
   ],
   "source": [
    "print(\"The value of y is %d and a is %d\"%(y,a)) "
   ]
  },
  {
   "cell_type": "markdown",
   "metadata": {},
   "source": [
    "**- What is the difference between %s and %d  in number?**"
   ]
  },
  {
   "cell_type": "markdown",
   "metadata": {},
   "source": [
    "**- Each type has different characteristics and features than others.** "
   ]
  },
  {
   "cell_type": "code",
   "execution_count": 53,
   "metadata": {},
   "outputs": [
    {
     "name": "stdout",
     "output_type": "stream",
     "text": [
      "The value of y is 1000000000000\n",
      "The value of y is 1\n",
      "The value of y is 10\n",
      "The value of y is 100\n"
     ]
    }
   ],
   "source": [
    "y=1000000000000\n",
    "\n",
    "print(\"The value of y is %s\"%y) \n",
    "\n",
    "\n",
    "\n",
    "print(\"The value of y is %.1s\"%y) \n",
    "\n",
    "\n",
    "print(\"The value of y is %.2s\"%y) \n",
    "\n",
    "print(\"The value of y is %.3s\"%y) "
   ]
  },
  {
   "cell_type": "code",
   "execution_count": 286,
   "metadata": {},
   "outputs": [
    {
     "name": "stdout",
     "output_type": "stream",
     "text": [
      "The value of y is 1000000000000\n",
      "The value of y is 1000000000000\n",
      "The value of y is 1000000000000\n",
      "The value of y is 1000000000000\n"
     ]
    }
   ],
   "source": [
    "y=1000000000000\n",
    "print(\"The value of y is %d\"%y) \n",
    "print(\"The value of y is %.1d\"%y) \n",
    "print(\"The value of y is %.2d\"%y) \n",
    "print(\"The value of y is %.3d\"%y)"
   ]
  },
  {
   "cell_type": "code",
   "execution_count": 62,
   "metadata": {},
   "outputs": [
    {
     "name": "stdout",
     "output_type": "stream",
     "text": [
      "The value of y is 1000000000000.000000\n",
      "The value of y is 1000000000000.00\n",
      "The value of y is 1000000000000.0\n",
      "The value of y is 1000000000000.000\n"
     ]
    }
   ],
   "source": [
    "y=1000000000000\n",
    "print(\"The value of y is %f\"%y) \n",
    "print(\"The value of y is %.2f\"%y)\n",
    "print(\"The value of y is %.1f\"%y) \n",
    "print(\"The value of y is %.3f\"%y)"
   ]
  },
  {
   "cell_type": "code",
   "execution_count": 1,
   "metadata": {},
   "outputs": [
    {
     "name": "stdout",
     "output_type": "stream",
     "text": [
      "The value of y is 10.000000\n",
      "The value of y is 10.00\n",
      "The value of y is 10.0\n",
      "The value of y is 10.000\n"
     ]
    }
   ],
   "source": [
    "y=10\n",
    "print(\"The value of y is %f\"%y) \n",
    "print(\"The value of y is %.2f\"%y)\n",
    "print(\"The value of y is %.1f\"%y) \n",
    "print(\"The value of y is %.3f\"%y)"
   ]
  },
  {
   "cell_type": "code",
   "execution_count": 2,
   "metadata": {},
   "outputs": [
    {
     "name": "stdout",
     "output_type": "stream",
     "text": [
      "The value of y is 10.780000\n",
      "The value of y is 10.78\n",
      "The value of y is 10.8\n",
      "The value of y is 10.780\n"
     ]
    }
   ],
   "source": [
    "y=10.78\n",
    "print(\"The value of y is %f\"%y) \n",
    "\n",
    "print(\"The value of y is %.2f\"%y)\n",
    "print(\"The value of y is %.1f\"%y) \n",
    "print(\"The value of y is %.3f\"%y)"
   ]
  },
  {
   "cell_type": "code",
   "execution_count": 66,
   "metadata": {},
   "outputs": [
    {
     "name": "stdout",
     "output_type": "stream",
     "text": [
      "The value of y is 1000000000000\n"
     ]
    },
    {
     "data": {
      "text/plain": [
       "str"
      ]
     },
     "execution_count": 66,
     "metadata": {},
     "output_type": "execute_result"
    }
   ],
   "source": [
    "x=\"The value of y is %s\"%y\n",
    "print(x)\n",
    "type(x)"
   ]
  },
  {
   "cell_type": "code",
   "execution_count": 67,
   "metadata": {},
   "outputs": [
    {
     "name": "stdout",
     "output_type": "stream",
     "text": [
      "The value of y is 1000000000000\n"
     ]
    },
    {
     "data": {
      "text/plain": [
       "str"
      ]
     },
     "execution_count": 67,
     "metadata": {},
     "output_type": "execute_result"
    }
   ],
   "source": [
    "x=\"The value of y is %d\"%y\n",
    "print(x)\n",
    "type(x)"
   ]
  },
  {
   "cell_type": "code",
   "execution_count": 68,
   "metadata": {},
   "outputs": [
    {
     "name": "stdout",
     "output_type": "stream",
     "text": [
      "The value of y is 1000000000000.000000\n"
     ]
    },
    {
     "data": {
      "text/plain": [
       "str"
      ]
     },
     "execution_count": 68,
     "metadata": {},
     "output_type": "execute_result"
    }
   ],
   "source": [
    "x=\"The value of y is %f\"%y\n",
    "print(x)\n",
    "type(x)"
   ]
  },
  {
   "cell_type": "code",
   "execution_count": 30,
   "metadata": {},
   "outputs": [
    {
     "name": "stdout",
     "output_type": "stream",
     "text": [
      "The value of y is \n",
      "\n"
     ]
    },
    {
     "data": {
      "text/plain": [
       "str"
      ]
     },
     "execution_count": 30,
     "metadata": {},
     "output_type": "execute_result"
    }
   ],
   "source": [
    "y=10\n",
    "x=\"The value of y is %c\"%y\n",
    "print(x)\n",
    "type(x)"
   ]
  },
  {
   "cell_type": "code",
   "execution_count": 80,
   "metadata": {},
   "outputs": [
    {
     "name": "stdout",
     "output_type": "stream",
     "text": [
      "The value of y is \u0001\n"
     ]
    },
    {
     "data": {
      "text/plain": [
       "str"
      ]
     },
     "execution_count": 80,
     "metadata": {},
     "output_type": "execute_result"
    }
   ],
   "source": [
    "y=1\n",
    "x=\"The value of y is %c\"%y\n",
    "print(x)\n",
    "type(x)"
   ]
  },
  {
   "cell_type": "code",
   "execution_count": 32,
   "metadata": {},
   "outputs": [
    {
     "name": "stdout",
     "output_type": "stream",
     "text": [
      "The value of y is a\n"
     ]
    },
    {
     "data": {
      "text/plain": [
       "str"
      ]
     },
     "execution_count": 32,
     "metadata": {},
     "output_type": "execute_result"
    }
   ],
   "source": [
    "y=97\n",
    "x=\"The value of y is %c\"%y\n",
    "print(x)\n",
    "type(x)"
   ]
  },
  {
   "cell_type": "markdown",
   "metadata": {},
   "source": [
    "# Sign (old way).."
   ]
  },
  {
   "cell_type": "code",
   "execution_count": 33,
   "metadata": {},
   "outputs": [
    {
     "name": "stdout",
     "output_type": "stream",
     "text": [
      "The value of y is -10\n"
     ]
    }
   ],
   "source": [
    "y=10\n",
    "print(\"The value of y is %d \"%-y) "
   ]
  },
  {
   "cell_type": "code",
   "execution_count": 12,
   "metadata": {},
   "outputs": [
    {
     "name": "stdout",
     "output_type": "stream",
     "text": [
      "The value of y is 10\n"
     ]
    }
   ],
   "source": [
    "y=10\n",
    "print(\"The value of y is %-d\"%y) "
   ]
  },
  {
   "cell_type": "code",
   "execution_count": 16,
   "metadata": {},
   "outputs": [
    {
     "name": "stdout",
     "output_type": "stream",
     "text": [
      "The value of y is +10\n"
     ]
    }
   ],
   "source": [
    "y=10\n",
    "print(\"The value of y is %+d\"%y) "
   ]
  },
  {
   "cell_type": "code",
   "execution_count": 15,
   "metadata": {},
   "outputs": [
    {
     "name": "stdout",
     "output_type": "stream",
     "text": [
      "The value of y is 10\n"
     ]
    }
   ],
   "source": [
    "y=10\n",
    "print(\"The value of y is %d\"%y) "
   ]
  },
  {
   "cell_type": "markdown",
   "metadata": {},
   "source": [
    "# Space (old way)..."
   ]
  },
  {
   "cell_type": "markdown",
   "metadata": {},
   "source": [
    "- default: right ..."
   ]
  },
  {
   "cell_type": "code",
   "execution_count": 34,
   "metadata": {},
   "outputs": [
    {
     "data": {
      "text/plain": [
       "'The value of y is               Python'"
      ]
     },
     "execution_count": 34,
     "metadata": {},
     "output_type": "execute_result"
    }
   ],
   "source": [
    "y='Python'\n",
    "\"The value of y is %20s\"%y"
   ]
  },
  {
   "cell_type": "code",
   "execution_count": 36,
   "metadata": {},
   "outputs": [
    {
     "data": {
      "text/plain": [
       "'The value of y is                   Py'"
      ]
     },
     "execution_count": 36,
     "metadata": {},
     "output_type": "execute_result"
    }
   ],
   "source": [
    "# Space with slicing :\n",
    "y='Python'\n",
    "\"The value of y is %20.2s\"%y"
   ]
  },
  {
   "cell_type": "markdown",
   "metadata": {},
   "source": [
    "# Fill space(old way)..."
   ]
  },
  {
   "cell_type": "markdown",
   "metadata": {},
   "source": [
    "- (only for numbers ( %d,%f ) )."
   ]
  },
  {
   "cell_type": "code",
   "execution_count": 36,
   "metadata": {},
   "outputs": [
    {
     "data": {
      "text/plain": [
       "'The value of y is 00000000000001088888'"
      ]
     },
     "execution_count": 36,
     "metadata": {},
     "output_type": "execute_result"
    }
   ],
   "source": [
    "y=1088888\n",
    "\"The value of y is %020d\"%y"
   ]
  },
  {
   "cell_type": "markdown",
   "metadata": {},
   "source": [
    "# Second way..."
   ]
  },
  {
   "cell_type": "code",
   "execution_count": 65,
   "metadata": {},
   "outputs": [
    {
     "name": "stdout",
     "output_type": "stream",
     "text": [
      "The value of y is 97\n"
     ]
    }
   ],
   "source": [
    "y=97\n",
    "\n",
    "print(\"The value of y is {}\".format(y))\n",
    "\n",
    "#print(\"The value of y is {:s}\" .format(y))#--> error\n"
   ]
  },
  {
   "cell_type": "markdown",
   "metadata": {},
   "source": [
    "- Note:\n",
    "    - {index:type}"
   ]
  },
  {
   "cell_type": "markdown",
   "metadata": {},
   "source": [
    "# Type.."
   ]
  },
  {
   "cell_type": "markdown",
   "metadata": {},
   "source": [
    "- s --> string or character only .\n",
    "\n",
    "- d and f --> number only . \n",
    "\n",
    "- c --> character or assci ."
   ]
  },
  {
   "cell_type": "code",
   "execution_count": 139,
   "metadata": {},
   "outputs": [
    {
     "name": "stdout",
     "output_type": "stream",
     "text": [
      "The value of y is P\n",
      "The value of y is Pyt\n",
      "The value of y is Py\n"
     ]
    }
   ],
   "source": [
    "#String \n",
    "y='Python'\n",
    "print(\"The value of y is {:.1s}\" .format(y))\n",
    "print(\"The value of y is {:.3s}\" .format(y))\n",
    "print(\"The value of y is {:.2s}\" .format(y))\n"
   ]
  },
  {
   "cell_type": "code",
   "execution_count": 66,
   "metadata": {},
   "outputs": [
    {
     "name": "stdout",
     "output_type": "stream",
     "text": [
      "The value of y is 2555555\n",
      "The value of y is 2,555,555\n",
      "The value of y is 2_555_555\n"
     ]
    }
   ],
   "source": [
    "#numbers (int)\n",
    "y=2555555\n",
    "print(\"The value of y is {:d}\" .format(y))\n",
    "print(\"The value of y is {:,d}\" .format(y))\n",
    "print(\"The value of y is {:_d}\" .format(y))"
   ]
  },
  {
   "cell_type": "code",
   "execution_count": 68,
   "metadata": {},
   "outputs": [
    {
     "name": "stdout",
     "output_type": "stream",
     "text": [
      "The value of y is 2555555.000000\n",
      "The value of y is 2,555,555.000000\n",
      "The value of y is 2,555,555.000\n"
     ]
    }
   ],
   "source": [
    "#numbers (float)\n",
    "y=2555555\n",
    "print(\"The value of y is {:f}\" .format(y))\n",
    "print(\"The value of y is {:,f}\" .format(y))\n",
    "print(\"The value of y is {:,.3f}\" .format(y))\n",
    "#print(\"The value of y is {:.3,f}\" .format(y)) --> error\n"
   ]
  },
  {
   "cell_type": "code",
   "execution_count": 69,
   "metadata": {},
   "outputs": [
    {
     "name": "stdout",
     "output_type": "stream",
     "text": [
      "The value of y is \u0001\n",
      "The value of y is a\n",
      "The value of y is \n",
      "\n"
     ]
    }
   ],
   "source": [
    "#character\n",
    "y=1\n",
    "y2=97\n",
    "y3=10\n",
    "print(\"The value of y is {:c}\" .format(y))\n",
    "print(\"The value of y is {:c}\" .format(y2))\n",
    "print(\"The value of y is {:c}\" .format(y3))\n"
   ]
  },
  {
   "cell_type": "markdown",
   "metadata": {},
   "source": [
    "# Index.."
   ]
  },
  {
   "cell_type": "code",
   "execution_count": 71,
   "metadata": {},
   "outputs": [
    {
     "name": "stdout",
     "output_type": "stream",
     "text": [
      "The value of y is 2555555.000000 and a is 30\n"
     ]
    }
   ],
   "source": [
    "y=2555555\n",
    "a=30\n",
    "print(\"The value of y is {0:f} and a is {1:d}\" .format(y,a))"
   ]
  },
  {
   "cell_type": "code",
   "execution_count": 72,
   "metadata": {},
   "outputs": [
    {
     "name": "stdout",
     "output_type": "stream",
     "text": [
      "The value of y is 30.000000 and a is 2555555\n"
     ]
    }
   ],
   "source": [
    "print(\"The value of y is {1:f} and a is {0:d}\" .format(y,a))"
   ]
  },
  {
   "cell_type": "code",
   "execution_count": 73,
   "metadata": {},
   "outputs": [
    {
     "name": "stdout",
     "output_type": "stream",
     "text": [
      "The value of y is 30.000000 and a is 30\n"
     ]
    }
   ],
   "source": [
    "print(\"The value of y is {1:f} and a is {1:d}\".format(y,a))"
   ]
  },
  {
   "cell_type": "code",
   "execution_count": 74,
   "metadata": {},
   "outputs": [
    {
     "name": "stdout",
     "output_type": "stream",
     "text": [
      "The value of y is 2555555.000000 and a is 30\n"
     ]
    }
   ],
   "source": [
    "print(\"The value of y is {first:f} and a is {last:d}\".format(last=a,first=y))"
   ]
  },
  {
   "cell_type": "code",
   "execution_count": 80,
   "metadata": {},
   "outputs": [
    {
     "ename": "IndexError",
     "evalue": "Replacement index 0 out of range for positional args tuple",
     "output_type": "error",
     "traceback": [
      "\u001b[0;31m---------------------------------------------------------------------------\u001b[0m",
      "\u001b[0;31mIndexError\u001b[0m                                Traceback (most recent call last)",
      "Cell \u001b[0;32mIn[80], line 1\u001b[0m\n\u001b[0;32m----> 1\u001b[0m \u001b[38;5;28mprint\u001b[39m(\u001b[38;5;124m\"\u001b[39m\u001b[38;5;124mThe value of y is \u001b[39m\u001b[38;5;132;01m{:f}\u001b[39;00m\u001b[38;5;124m and a is \u001b[39m\u001b[38;5;132;01m{:d}\u001b[39;00m\u001b[38;5;124m\"\u001b[39m \u001b[38;5;241m.\u001b[39mformat(last\u001b[38;5;241m=\u001b[39ma,first\u001b[38;5;241m=\u001b[39my))\n",
      "\u001b[0;31mIndexError\u001b[0m: Replacement index 0 out of range for positional args tuple"
     ]
    }
   ],
   "source": [
    "print(\"The value of y is {:f} and a is {:d}\" .format(last=a,first=y))"
   ]
  },
  {
   "cell_type": "code",
   "execution_count": 81,
   "metadata": {},
   "outputs": [
    {
     "ename": "IndexError",
     "evalue": "Replacement index 1 out of range for positional args tuple",
     "output_type": "error",
     "traceback": [
      "\u001b[0;31m---------------------------------------------------------------------------\u001b[0m",
      "\u001b[0;31mIndexError\u001b[0m                                Traceback (most recent call last)",
      "Cell \u001b[0;32mIn[81], line 1\u001b[0m\n\u001b[0;32m----> 1\u001b[0m \u001b[38;5;28mprint\u001b[39m(\u001b[38;5;124m\"\u001b[39m\u001b[38;5;124mThe value of y is \u001b[39m\u001b[38;5;132;01m{1:f}\u001b[39;00m\u001b[38;5;124m and a is \u001b[39m\u001b[38;5;132;01m{0:d}\u001b[39;00m\u001b[38;5;124m\"\u001b[39m \u001b[38;5;241m.\u001b[39mformat(last\u001b[38;5;241m=\u001b[39ma,first\u001b[38;5;241m=\u001b[39my))\n",
      "\u001b[0;31mIndexError\u001b[0m: Replacement index 1 out of range for positional args tuple"
     ]
    }
   ],
   "source": [
    "print(\"The value of y is {1:f} and a is {0:d}\" .format(last=a,first=y))"
   ]
  },
  {
   "cell_type": "code",
   "execution_count": 82,
   "metadata": {},
   "outputs": [
    {
     "name": "stdout",
     "output_type": "stream",
     "text": [
      "The value of y is 30.000000 and a is 2555555\n"
     ]
    }
   ],
   "source": [
    "print(\"The value of y is {:f} and a is {:d}\" .format(a,y))"
   ]
  },
  {
   "cell_type": "code",
   "execution_count": 44,
   "metadata": {},
   "outputs": [
    {
     "data": {
      "text/plain": [
       "'Happy Happy Birthday'"
      ]
     },
     "execution_count": 44,
     "metadata": {},
     "output_type": "execute_result"
    }
   ],
   "source": [
    "'{0} {0} {1}'.format('Happy', 'Birthday')\n"
   ]
  },
  {
   "cell_type": "markdown",
   "metadata": {},
   "source": [
    "# Space.."
   ]
  },
  {
   "cell_type": "code",
   "execution_count": 85,
   "metadata": {},
   "outputs": [
    {
     "data": {
      "text/plain": [
       "'The value of y is Python              '"
      ]
     },
     "execution_count": 85,
     "metadata": {},
     "output_type": "execute_result"
    }
   ],
   "source": [
    "y='Python'\n",
    "\"The value of y is {:20s}\" .format(y)"
   ]
  },
  {
   "cell_type": "markdown",
   "metadata": {},
   "source": [
    "#  Alignment.."
   ]
  },
  {
   "cell_type": "markdown",
   "metadata": {},
   "source": [
    "- Note: defualt --> right for numbers , left for strings .\n",
    "    - (< : left )\n",
    "\n",
    "    - (> : right) \n",
    "\n",
    "    - (^ : center )"
   ]
  },
  {
   "cell_type": "code",
   "execution_count": 34,
   "metadata": {},
   "outputs": [
    {
     "data": {
      "text/plain": [
       "'The value of y is                    8'"
      ]
     },
     "execution_count": 34,
     "metadata": {},
     "output_type": "execute_result"
    }
   ],
   "source": [
    "y=8\n",
    "\"The value of y is {:20d}\" .format(y) "
   ]
  },
  {
   "cell_type": "code",
   "execution_count": 36,
   "metadata": {},
   "outputs": [
    {
     "data": {
      "text/plain": [
       "'The value of y is python              '"
      ]
     },
     "execution_count": 36,
     "metadata": {},
     "output_type": "execute_result"
    }
   ],
   "source": [
    "y='python' \n",
    "\"The value of y is {:20s}\" .format(y) "
   ]
  },
  {
   "cell_type": "code",
   "execution_count": 87,
   "metadata": {},
   "outputs": [
    {
     "data": {
      "text/plain": [
       "'The value of y is 9                   '"
      ]
     },
     "execution_count": 87,
     "metadata": {},
     "output_type": "execute_result"
    }
   ],
   "source": [
    "y=9\n",
    "\"The value of y is {:<20d}\" .format(y) "
   ]
  },
  {
   "cell_type": "code",
   "execution_count": 5,
   "metadata": {},
   "outputs": [
    {
     "data": {
      "text/plain": [
       "'The value of y is               Python'"
      ]
     },
     "execution_count": 5,
     "metadata": {},
     "output_type": "execute_result"
    }
   ],
   "source": [
    "y='Python'\n",
    "\"The value of y is {:>20s}\" .format(y) "
   ]
  },
  {
   "cell_type": "code",
   "execution_count": 155,
   "metadata": {},
   "outputs": [
    {
     "data": {
      "text/plain": [
       "'The value of y is        Python       '"
      ]
     },
     "execution_count": 155,
     "metadata": {},
     "output_type": "execute_result"
    }
   ],
   "source": [
    "y=2\n",
    "\"The value of y is {:^20s}\" .format(y) "
   ]
  },
  {
   "cell_type": "markdown",
   "metadata": {},
   "source": [
    "# Fill space.."
   ]
  },
  {
   "cell_type": "code",
   "execution_count": 51,
   "metadata": {},
   "outputs": [
    {
     "name": "stdout",
     "output_type": "stream",
     "text": [
      "The value of y is 0000000010 \n"
     ]
    }
   ],
   "source": [
    "y=10\n",
    "print(\"The value of y is {:010d} \".format(y))\n"
   ]
  },
  {
   "cell_type": "code",
   "execution_count": 39,
   "metadata": {},
   "outputs": [
    {
     "name": "stdout",
     "output_type": "stream",
     "text": [
      "The value of y is 9000000000 \n"
     ]
    }
   ],
   "source": [
    "y=9\n",
    "print(\"The value of y is {:<010d} \".format(y))"
   ]
  },
  {
   "cell_type": "code",
   "execution_count": 14,
   "metadata": {},
   "outputs": [
    {
     "name": "stdout",
     "output_type": "stream",
     "text": [
      "The value of y is 0000000009 \n"
     ]
    }
   ],
   "source": [
    "y=9\n",
    "print(\"The value of y is {:>010d} \".format(y))"
   ]
  },
  {
   "cell_type": "code",
   "execution_count": 15,
   "metadata": {},
   "outputs": [
    {
     "name": "stdout",
     "output_type": "stream",
     "text": [
      "The value of y is 0000900000 \n"
     ]
    }
   ],
   "source": [
    "y=9 \n",
    "print(\"The value of y is {:^010d} \".format(y))"
   ]
  },
  {
   "cell_type": "markdown",
   "metadata": {},
   "source": [
    "#  Sign ..."
   ]
  },
  {
   "cell_type": "code",
   "execution_count": 182,
   "metadata": {},
   "outputs": [
    {
     "name": "stdout",
     "output_type": "stream",
     "text": [
      "The value of y is +10 \n"
     ]
    }
   ],
   "source": [
    "y=10\n",
    "print(\"The value of y is {:+d} \".format(y))"
   ]
  },
  {
   "cell_type": "code",
   "execution_count": 43,
   "metadata": {},
   "outputs": [
    {
     "name": "stdout",
     "output_type": "stream",
     "text": [
      "The value of y is 10 \n"
     ]
    }
   ],
   "source": [
    "y=10\n",
    "print(\"The value of y is {:d} \".format(+y))"
   ]
  },
  {
   "cell_type": "code",
   "execution_count": 41,
   "metadata": {},
   "outputs": [
    {
     "name": "stdout",
     "output_type": "stream",
     "text": [
      "The value of y is -10 \n"
     ]
    }
   ],
   "source": [
    "y=10\n",
    "print(\"The value of y is {:d} \".format(-y))"
   ]
  },
  {
   "cell_type": "code",
   "execution_count": 42,
   "metadata": {},
   "outputs": [
    {
     "name": "stdout",
     "output_type": "stream",
     "text": [
      "The value of y is 10 \n"
     ]
    }
   ],
   "source": [
    "y=10\n",
    "print(\"The value of y is {:-d} \".format(y))"
   ]
  },
  {
   "cell_type": "markdown",
   "metadata": {},
   "source": [
    "# - All  features in one statement.."
   ]
  },
  {
   "cell_type": "markdown",
   "metadata": {},
   "source": [
    "# String.."
   ]
  },
  {
   "cell_type": "code",
   "execution_count": 89,
   "metadata": {},
   "outputs": [
    {
     "data": {
      "text/plain": [
       "'The value of y is py '"
      ]
     },
     "execution_count": 89,
     "metadata": {},
     "output_type": "execute_result"
    }
   ],
   "source": [
    "y=\"python\"\n",
    "#slicing  , space, alignment , fill \n",
    "\"The value of y is {:.2s} \".format(y)"
   ]
  },
  {
   "cell_type": "code",
   "execution_count": 91,
   "metadata": {},
   "outputs": [
    {
     "data": {
      "text/plain": [
       "'The value of y is py         '"
      ]
     },
     "execution_count": 91,
     "metadata": {},
     "output_type": "execute_result"
    }
   ],
   "source": [
    "\"The value of y is {:10.2s} \".format(y)"
   ]
  },
  {
   "cell_type": "code",
   "execution_count": 93,
   "metadata": {},
   "outputs": [
    {
     "data": {
      "text/plain": [
       "'The value of y is         py '"
      ]
     },
     "execution_count": 93,
     "metadata": {},
     "output_type": "execute_result"
    }
   ],
   "source": [
    "\"The value of y is {:>10.2s} \".format(y)"
   ]
  },
  {
   "cell_type": "code",
   "execution_count": 100,
   "metadata": {},
   "outputs": [
    {
     "data": {
      "text/plain": [
       "'The value of y is 11111111py '"
      ]
     },
     "execution_count": 100,
     "metadata": {},
     "output_type": "execute_result"
    }
   ],
   "source": [
    "\"The value of y is {:1>10.2s} \".format(y)"
   ]
  },
  {
   "cell_type": "code",
   "execution_count": 43,
   "metadata": {},
   "outputs": [
    {
     "data": {
      "text/plain": [
       "'The value of y is 00000000py '"
      ]
     },
     "execution_count": 43,
     "metadata": {},
     "output_type": "execute_result"
    }
   ],
   "source": [
    "\"The value of y is {:>010.2s} \".format(y)"
   ]
  },
  {
   "cell_type": "code",
   "execution_count": 44,
   "metadata": {},
   "outputs": [
    {
     "data": {
      "text/plain": [
       "'The value of y is 11111111py '"
      ]
     },
     "execution_count": 44,
     "metadata": {},
     "output_type": "execute_result"
    }
   ],
   "source": [
    "\"The value of y is {:1>10.2s} \".format(y)"
   ]
  },
  {
   "cell_type": "code",
   "execution_count": 54,
   "metadata": {},
   "outputs": [
    {
     "data": {
      "text/plain": [
       "'The value of y is                                                                                                             py '"
      ]
     },
     "execution_count": 54,
     "metadata": {},
     "output_type": "execute_result"
    }
   ],
   "source": [
    "\"The value of y is %110.2s \"%y"
   ]
  },
  {
   "cell_type": "markdown",
   "metadata": {},
   "source": [
    "# Number.. "
   ]
  },
  {
   "cell_type": "code",
   "execution_count": 101,
   "metadata": {},
   "outputs": [
    {
     "data": {
      "text/plain": [
       "'The value of y is          5 '"
      ]
     },
     "execution_count": 101,
     "metadata": {},
     "output_type": "execute_result"
    }
   ],
   "source": [
    "y=5\n",
    "# space, alignment , fill , sign , grouping\n",
    "\n",
    "\"The value of y is {:10d} \".format(y)"
   ]
  },
  {
   "cell_type": "code",
   "execution_count": 102,
   "metadata": {},
   "outputs": [
    {
     "data": {
      "text/plain": [
       "'The value of y is 5          '"
      ]
     },
     "execution_count": 102,
     "metadata": {},
     "output_type": "execute_result"
    }
   ],
   "source": [
    "\"The value of y is {:<10d} \".format(y)"
   ]
  },
  {
   "cell_type": "code",
   "execution_count": 103,
   "metadata": {},
   "outputs": [
    {
     "data": {
      "text/plain": [
       "'The value of y is 5111111111 '"
      ]
     },
     "execution_count": 103,
     "metadata": {},
     "output_type": "execute_result"
    }
   ],
   "source": [
    "\"The value of y is {:1<10d} \".format(y)"
   ]
  },
  {
   "cell_type": "code",
   "execution_count": 104,
   "metadata": {},
   "outputs": [
    {
     "data": {
      "text/plain": [
       "'The value of y is 5000000000 '"
      ]
     },
     "execution_count": 104,
     "metadata": {},
     "output_type": "execute_result"
    }
   ],
   "source": [
    "\"The value of y is {:<010d} \".format(y)"
   ]
  },
  {
   "cell_type": "code",
   "execution_count": 106,
   "metadata": {},
   "outputs": [
    {
     "data": {
      "text/plain": [
       "'The value of y is 5+++++++++ '"
      ]
     },
     "execution_count": 106,
     "metadata": {},
     "output_type": "execute_result"
    }
   ],
   "source": [
    "\"The value of y is {:+<10d} \".format(y)\n"
   ]
  },
  {
   "cell_type": "code",
   "execution_count": 60,
   "metadata": {},
   "outputs": [
    {
     "data": {
      "text/plain": [
       "'The value of y is -500000000 '"
      ]
     },
     "execution_count": 60,
     "metadata": {},
     "output_type": "execute_result"
    }
   ],
   "source": [
    "\"The value of y is {:<010d} \".format(-y)"
   ]
  },
  {
   "cell_type": "code",
   "execution_count": 111,
   "metadata": {},
   "outputs": [
    {
     "data": {
      "text/plain": [
       "'The value of y is 666_666_666 '"
      ]
     },
     "execution_count": 111,
     "metadata": {},
     "output_type": "execute_result"
    }
   ],
   "source": [
    "y=666666666\n",
    "\"The value of y is {:<10_.2f} \".format(y)"
   ]
  },
  {
   "cell_type": "code",
   "execution_count": 63,
   "metadata": {},
   "outputs": [
    {
     "data": {
      "text/plain": [
       "'The value of y is 5000000000 '"
      ]
     },
     "execution_count": 63,
     "metadata": {},
     "output_type": "execute_result"
    }
   ],
   "source": [
    "y=5\n",
    "\"The value of y is {:<010,d} \".format(y)\n",
    "The value of y is  5-->5 "
   ]
  },
  {
   "cell_type": "markdown",
   "metadata": {},
   "source": [
    "# Third way (remove index)..."
   ]
  },
  {
   "cell_type": "markdown",
   "metadata": {},
   "source": [
    "**- All the features mentioned above apply to this way , the difference is the syntax...**"
   ]
  },
  {
   "cell_type": "markdown",
   "metadata": {},
   "source": [
    "- Syntax: \n",
    "    - {name of variabel:type}"
   ]
  },
  {
   "cell_type": "code",
   "execution_count": 3,
   "metadata": {},
   "outputs": [
    {
     "name": "stdout",
     "output_type": "stream",
     "text": [
      "The value of y is 97\n"
     ]
    }
   ],
   "source": [
    "y=97\n",
    "\n",
    "#print(\"The value of y is {}\" .format(y))\n",
    "\n",
    "print(f\"The value of y is {y:}\" )\n",
    "\n",
    "print(f\"The value of y is {y:d}\" )\n"
   ]
  },
  {
   "cell_type": "code",
   "execution_count": 3,
   "metadata": {},
   "outputs": [
    {
     "name": "stdout",
     "output_type": "stream",
     "text": [
      "The value of y is +100000000 \n",
      "The value of y is 000000+100 \n"
     ]
    }
   ],
   "source": [
    "y=100\n",
    "print(\"The value of y is {:0<+10d} \".format(y))\n",
    "\n",
    "\n",
    "print(f\"The value of y is {y:0>+10d} \")\n"
   ]
  },
  {
   "cell_type": "markdown",
   "metadata": {},
   "source": [
    "**- Note--> You can also use capital letters ..**"
   ]
  },
  {
   "cell_type": "code",
   "execution_count": 254,
   "metadata": {},
   "outputs": [
    {
     "name": "stdout",
     "output_type": "stream",
     "text": [
      "100.000000\n",
      "100.000000\n"
     ]
    }
   ],
   "source": [
    "#Example..\n",
    "print(f'{100:f}')\n",
    "print(f'{100:F}')"
   ]
  },
  {
   "cell_type": "markdown",
   "metadata": {},
   "source": [
    "# Decimal library..."
   ]
  },
  {
   "cell_type": "markdown",
   "metadata": {},
   "source": [
    "**- The decimal module provides support for fast correctly rounded decimal floating point arithmetic.** "
   ]
  },
  {
   "cell_type": "code",
   "execution_count": 5,
   "metadata": {},
   "outputs": [],
   "source": [
    "from decimal import Decimal"
   ]
  },
  {
   "cell_type": "code",
   "execution_count": 6,
   "metadata": {},
   "outputs": [
    {
     "ename": "ValueError",
     "evalue": "Unknown format code 'f' for object of type 'str'",
     "output_type": "error",
     "traceback": [
      "\u001b[0;31m---------------------------------------------------------------------------\u001b[0m",
      "\u001b[0;31mValueError\u001b[0m                                Traceback (most recent call last)",
      "Cell \u001b[0;32mIn[6], line 1\u001b[0m\n\u001b[0;32m----> 1\u001b[0m \u001b[38;5;124mf\u001b[39m\u001b[38;5;124m'\u001b[39m\u001b[38;5;132;01m{\u001b[39;00m\u001b[38;5;124m\"\u001b[39m\u001b[38;5;124m10000000000000000000000000.0\u001b[39m\u001b[38;5;124m\"\u001b[39m\u001b[38;5;132;01m:\u001b[39;00m\u001b[38;5;124mf\u001b[39m\u001b[38;5;132;01m}\u001b[39;00m\u001b[38;5;124m'\u001b[39m\n",
      "\u001b[0;31mValueError\u001b[0m: Unknown format code 'f' for object of type 'str'"
     ]
    }
   ],
   "source": [
    "f'{\"10000000000000000000000000.0\":f}' #--> error \n"
   ]
  },
  {
   "cell_type": "code",
   "execution_count": 10,
   "metadata": {},
   "outputs": [
    {
     "data": {
      "text/plain": [
       "'10000000000000000000000000.0'"
      ]
     },
     "execution_count": 10,
     "metadata": {},
     "output_type": "execute_result"
    }
   ],
   "source": [
    "f'{Decimal(\"10000000000000000000000000.0\"):f}'"
   ]
  },
  {
   "cell_type": "code",
   "execution_count": 18,
   "metadata": {},
   "outputs": [
    {
     "data": {
      "text/plain": [
       "decimal.Decimal"
      ]
     },
     "execution_count": 18,
     "metadata": {},
     "output_type": "execute_result"
    }
   ],
   "source": [
    "type(Decimal(\"10000000000000000000000000.0\")) #object"
   ]
  },
  {
   "cell_type": "markdown",
   "metadata": {},
   "source": [
    "# Exponential type..."
   ]
  },
  {
   "cell_type": "code",
   "execution_count": 1,
   "metadata": {},
   "outputs": [
    {
     "name": "stdout",
     "output_type": "stream",
     "text": [
      "4.000000e+00\n",
      "4.760000e+02\n",
      "4.00e+00\n",
      "4.6e+02\n",
      "1.00000E+02\n"
     ]
    }
   ],
   "source": [
    "print('%e'%4)\n",
    "#4--> 4.000000 --> 4.000000e+00\n",
    "print('%e'%476)\n",
    "#476 --> 4.760000e+02\n",
    "#\n",
    "print('%.2e'%4)\n",
    "#4 --> 4.00e+00\n",
    "#\n",
    "print('%.1e'%455)\n",
    "#455 --> 4.6e+02\n",
    "#\n",
    "print('%.5E'%100)#capital \n",
    "#100 --> 1.00000e+02"
   ]
  },
  {
   "cell_type": "code",
   "execution_count": 20,
   "metadata": {},
   "outputs": [
    {
     "name": "stdout",
     "output_type": "stream",
     "text": [
      "4.000000e+00\n",
      "4.0e+00\n",
      "4.00e+00\n",
      "4.55e+02\n",
      "1.00000E+03\n"
     ]
    }
   ],
   "source": [
    "print('{:e}'.format(4))\n",
    "#\n",
    "print('{:.1e}'.format(4))\n",
    "#\n",
    "print('{:.2e}'.format(4))\n",
    "#\n",
    "print('{:.2e}'.format(455))\n",
    "#\n",
    "print('{:.5E}'.format(1000))"
   ]
  },
  {
   "cell_type": "code",
   "execution_count": 31,
   "metadata": {},
   "outputs": [
    {
     "name": "stdout",
     "output_type": "stream",
     "text": [
      "4.000000e+00\n",
      "4.0e+00\n",
      "4.00e+00\n",
      "4.55e+02\n",
      "1.00000E+03\n"
     ]
    }
   ],
   "source": [
    "print(f'{4:e}')\n",
    "#\n",
    "print(f'{4:.1e}')\n",
    "#\n",
    "print(f'{4:.2e}')\n",
    "#f\n",
    "print(f'{455:.2e}')\n",
    "#\n",
    "print(f'{1000:.5E}')"
   ]
  },
  {
   "cell_type": "code",
   "execution_count": 22,
   "metadata": {},
   "outputs": [
    {
     "name": "stdout",
     "output_type": "stream",
     "text": [
      "1.000e+3\n"
     ]
    }
   ],
   "source": [
    "print(f'{Decimal(\"1000.0\"):.3e}')\n",
    "1000.0 --> 1.000e+3"
   ]
  },
  {
   "cell_type": "markdown",
   "metadata": {},
   "source": [
    "**- Note: There also are integer presentation types (b, o and x or X) that format integers using the binary, octal or hexadecimal number systems.**"
   ]
  },
  {
   "cell_type": "code",
   "execution_count": 2,
   "metadata": {},
   "outputs": [
    {
     "name": "stdout",
     "output_type": "stream",
     "text": [
      "4\n",
      "4\n"
     ]
    }
   ],
   "source": [
    "#print(\"%b\"%4)#-->error\n",
    "print(\"%x\"%4)\n",
    "print(\"%o\"%4)"
   ]
  },
  {
   "cell_type": "code",
   "execution_count": 13,
   "metadata": {},
   "outputs": [
    {
     "name": "stdout",
     "output_type": "stream",
     "text": [
      "100\n",
      "4\n",
      "4\n"
     ]
    }
   ],
   "source": [
    "print('{:b}'.format(4)) #binary\n",
    "#\n",
    "print('{:o}'.format(4)) # octal\n",
    "#\n",
    "print('{:x}'.format(4)) # hexadecimal \n"
   ]
  },
  {
   "cell_type": "code",
   "execution_count": 4,
   "metadata": {},
   "outputs": [
    {
     "name": "stdout",
     "output_type": "stream",
     "text": [
      "100\n",
      "4\n",
      "4\n"
     ]
    }
   ],
   "source": [
    "print(f'{4:b}') #binary\n",
    "#\n",
    "print(f'{4:o}') # octal\n",
    "#\n",
    "print(f'{4:x}') # hexadecimal \n"
   ]
  }
 ],
 "metadata": {
  "kernelspec": {
   "display_name": "Python 3 (ipykernel)",
   "language": "python",
   "name": "python3"
  },
  "language_info": {
   "codemirror_mode": {
    "name": "ipython",
    "version": 3
   },
   "file_extension": ".py",
   "mimetype": "text/x-python",
   "name": "python",
   "nbconvert_exporter": "python",
   "pygments_lexer": "ipython3",
   "version": "3.11.5"
  }
 },
 "nbformat": 4,
 "nbformat_minor": 4
}
